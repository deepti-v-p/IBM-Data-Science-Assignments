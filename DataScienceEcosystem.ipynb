{
 "cells": [
  {
   "cell_type": "markdown",
   "id": "d4c89363-1f33-4006-a801-c67464e88c98",
   "metadata": {},
   "source": [
    "# Data Science Tools and Ecosystem"
   ]
  },
  {
   "cell_type": "markdown",
   "id": "35732dc4-54df-4efc-b1b9-60bd92d05d57",
   "metadata": {},
   "source": [
    "## In this notebook, Data Science Tools and Ecosystem are summarized..\r\n"
   ]
  },
  {
   "cell_type": "markdown",
   "id": "640df850-f2b6-4eaa-b908-00abe567fb19",
   "metadata": {},
   "source": [
    "## **Objectives:**\r\n",
    "\r\n",
    "- List popular languages for Data Science\r\n",
    "- Explore common libraries used in Data Science\r\n",
    "- Understand the tools and environments used by Data Scientists\r\n",
    "- Demonstrate basic arithmetic operations in Python\r\n",
    "- Convert time units (e.g., minutes to hours) using Python\r\n"
   ]
  },
  {
   "cell_type": "markdown",
   "id": "e9e151e3-5e16-4bca-9563-f6a2087f433f",
   "metadata": {},
   "source": [
    "## \r\n",
    "Some of the popular languages that Data Scientists use are:\r\n",
    "\r\n",
    "1. Python\r\n",
    "2. R\r\n",
    "3. SQL\r\n",
    "4. Julia\r\n",
    "5. Scala\r\n"
   ]
  },
  {
   "cell_type": "markdown",
   "id": "18cb17d1-0053-401b-86e2-6ed2ffcee1f5",
   "metadata": {},
   "source": [
    "## \r\n",
    "Some of the commonly used libraries used by Data Scientists include:\r\n",
    "\r\n",
    "1. NumPy\r\n",
    "2. Pandas\r\n",
    "3. Matplotlib\r\n",
    "4. Scikit-learn\r\n",
    "5. TensorFlow\r\n",
    "6. PyTorch\r\n"
   ]
  },
  {
   "cell_type": "markdown",
   "id": "b240b678-1855-412b-8339-36f1c6f9726c",
   "metadata": {},
   "source": [
    "\n",
    "\r\n",
    "| Data Science Tools       |\r\n",
    "|--------------------------|\r\n",
    "| Jupyter Notebook         |\r\n",
    "| RStudio                  |\r\n",
    "| Apache Zeppelin          |\r\n"
   ]
  },
  {
   "cell_type": "markdown",
   "id": "d2a01942-f6e5-4f8f-b6c0-0f722cca0d97",
   "metadata": {},
   "source": [
    "### Below are a few examples of evaluating arithmetic expressions in Python"
   ]
  },
  {
   "cell_type": "code",
   "execution_count": 12,
   "id": "d69f3d96-2363-4013-ac0d-364ed655661b",
   "metadata": {},
   "outputs": [
    {
     "data": {
      "text/plain": [
       "17"
      ]
     },
     "execution_count": 12,
     "metadata": {},
     "output_type": "execute_result"
    }
   ],
   "source": [
    "# This is a simple arithmetic expression to multiply then add integers\n",
    "result = (3 * 4) + 5\n",
    "result"
   ]
  },
  {
   "cell_type": "code",
   "execution_count": 14,
   "id": "3b0a767d-2528-47cf-8749-8c2a68ae2af6",
   "metadata": {},
   "outputs": [
    {
     "data": {
      "text/plain": [
       "3.3333333333333335"
      ]
     },
     "execution_count": 14,
     "metadata": {},
     "output_type": "execute_result"
    }
   ],
   "source": [
    "# This will convert 200 minutes to hours by dividing by 60\n",
    "hours = 200 / 60\n",
    "hours"
   ]
  },
  {
   "cell_type": "markdown",
   "id": "064c0884-ec6e-4961-9da8-bb01c588b427",
   "metadata": {},
   "source": [
    "## Author\r\n",
    "\r\n",
    "Deepti V P\r\n"
   ]
  }
 ],
 "metadata": {
  "kernelspec": {
   "display_name": "Python 3 (ipykernel)",
   "language": "python",
   "name": "python3"
  },
  "language_info": {
   "codemirror_mode": {
    "name": "ipython",
    "version": 3
   },
   "file_extension": ".py",
   "mimetype": "text/x-python",
   "name": "python",
   "nbconvert_exporter": "python",
   "pygments_lexer": "ipython3",
   "version": "3.12.4"
  }
 },
 "nbformat": 4,
 "nbformat_minor": 5
}
